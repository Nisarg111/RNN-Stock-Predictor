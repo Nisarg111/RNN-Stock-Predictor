{
  "cells": [
    {
      "cell_type": "markdown",
      "metadata": {
        "id": "view-in-github",
        "colab_type": "text"
      },
      "source": [
        "<a href=\"https://colab.research.google.com/github/Nisarg111/RNN-Stock-Predictor/blob/main/Tesla_Stock_Trend.ipynb\" target=\"_parent\"><img src=\"https://colab.research.google.com/assets/colab-badge.svg\" alt=\"Open In Colab\"/></a>"
      ]
    },
    {
      "cell_type": "code",
      "execution_count": 1,
      "metadata": {
        "id": "6s9prQ4Ka50l"
      },
      "outputs": [],
      "source": [
        "import numpy as np\n",
        "import pandas as pd\n",
        "import matplotlib.pyplot as plt\n",
        "from sklearn.preprocessing import MinMaxScaler\n",
        "import yfinance as yf"
      ]
    },
    {
      "cell_type": "code",
      "execution_count": 2,
      "metadata": {
        "id": "5fKGN__bbBPk"
      },
      "outputs": [],
      "source": [
        "#Creating Ticker\n",
        "\n",
        "tesla = yf.Ticker('TSLA')\n",
        "tesla_data = tesla.history(period = 'max')\n",
        "tesla_data.reset_index(inplace = True)\n"
      ]
    },
    {
      "cell_type": "code",
      "execution_count": 3,
      "metadata": {
        "colab": {
          "base_uri": "https://localhost:8080/",
          "height": 226
        },
        "id": "XR0xWBxjbWxn",
        "outputId": "139c4a50-401d-4027-8b94-139285e12c90"
      },
      "outputs": [
        {
          "output_type": "execute_result",
          "data": {
            "text/plain": [
              "                       Date      High\n",
              "0 2010-06-29 00:00:00-04:00  1.666667\n",
              "1 2010-06-30 00:00:00-04:00  2.028000\n",
              "2 2010-07-01 00:00:00-04:00  1.728000\n",
              "3 2010-07-02 00:00:00-04:00  1.540000\n",
              "4 2010-07-06 00:00:00-04:00  1.333333"
            ],
            "text/html": [
              "\n",
              "  <div id=\"df-14363746-0626-4e18-bbc4-472a36be9e26\" class=\"colab-df-container\">\n",
              "    <div>\n",
              "<style scoped>\n",
              "    .dataframe tbody tr th:only-of-type {\n",
              "        vertical-align: middle;\n",
              "    }\n",
              "\n",
              "    .dataframe tbody tr th {\n",
              "        vertical-align: top;\n",
              "    }\n",
              "\n",
              "    .dataframe thead th {\n",
              "        text-align: right;\n",
              "    }\n",
              "</style>\n",
              "<table border=\"1\" class=\"dataframe\">\n",
              "  <thead>\n",
              "    <tr style=\"text-align: right;\">\n",
              "      <th></th>\n",
              "      <th>Date</th>\n",
              "      <th>High</th>\n",
              "    </tr>\n",
              "  </thead>\n",
              "  <tbody>\n",
              "    <tr>\n",
              "      <th>0</th>\n",
              "      <td>2010-06-29 00:00:00-04:00</td>\n",
              "      <td>1.666667</td>\n",
              "    </tr>\n",
              "    <tr>\n",
              "      <th>1</th>\n",
              "      <td>2010-06-30 00:00:00-04:00</td>\n",
              "      <td>2.028000</td>\n",
              "    </tr>\n",
              "    <tr>\n",
              "      <th>2</th>\n",
              "      <td>2010-07-01 00:00:00-04:00</td>\n",
              "      <td>1.728000</td>\n",
              "    </tr>\n",
              "    <tr>\n",
              "      <th>3</th>\n",
              "      <td>2010-07-02 00:00:00-04:00</td>\n",
              "      <td>1.540000</td>\n",
              "    </tr>\n",
              "    <tr>\n",
              "      <th>4</th>\n",
              "      <td>2010-07-06 00:00:00-04:00</td>\n",
              "      <td>1.333333</td>\n",
              "    </tr>\n",
              "  </tbody>\n",
              "</table>\n",
              "</div>\n",
              "    <div class=\"colab-df-buttons\">\n",
              "\n",
              "  <div class=\"colab-df-container\">\n",
              "    <button class=\"colab-df-convert\" onclick=\"convertToInteractive('df-14363746-0626-4e18-bbc4-472a36be9e26')\"\n",
              "            title=\"Convert this dataframe to an interactive table.\"\n",
              "            style=\"display:none;\">\n",
              "\n",
              "  <svg xmlns=\"http://www.w3.org/2000/svg\" height=\"24px\" viewBox=\"0 -960 960 960\">\n",
              "    <path d=\"M120-120v-720h720v720H120Zm60-500h600v-160H180v160Zm220 220h160v-160H400v160Zm0 220h160v-160H400v160ZM180-400h160v-160H180v160Zm440 0h160v-160H620v160ZM180-180h160v-160H180v160Zm440 0h160v-160H620v160Z\"/>\n",
              "  </svg>\n",
              "    </button>\n",
              "\n",
              "  <style>\n",
              "    .colab-df-container {\n",
              "      display:flex;\n",
              "      gap: 12px;\n",
              "    }\n",
              "\n",
              "    .colab-df-convert {\n",
              "      background-color: #E8F0FE;\n",
              "      border: none;\n",
              "      border-radius: 50%;\n",
              "      cursor: pointer;\n",
              "      display: none;\n",
              "      fill: #1967D2;\n",
              "      height: 32px;\n",
              "      padding: 0 0 0 0;\n",
              "      width: 32px;\n",
              "    }\n",
              "\n",
              "    .colab-df-convert:hover {\n",
              "      background-color: #E2EBFA;\n",
              "      box-shadow: 0px 1px 2px rgba(60, 64, 67, 0.3), 0px 1px 3px 1px rgba(60, 64, 67, 0.15);\n",
              "      fill: #174EA6;\n",
              "    }\n",
              "\n",
              "    .colab-df-buttons div {\n",
              "      margin-bottom: 4px;\n",
              "    }\n",
              "\n",
              "    [theme=dark] .colab-df-convert {\n",
              "      background-color: #3B4455;\n",
              "      fill: #D2E3FC;\n",
              "    }\n",
              "\n",
              "    [theme=dark] .colab-df-convert:hover {\n",
              "      background-color: #434B5C;\n",
              "      box-shadow: 0px 1px 3px 1px rgba(0, 0, 0, 0.15);\n",
              "      filter: drop-shadow(0px 1px 2px rgba(0, 0, 0, 0.3));\n",
              "      fill: #FFFFFF;\n",
              "    }\n",
              "  </style>\n",
              "\n",
              "    <script>\n",
              "      const buttonEl =\n",
              "        document.querySelector('#df-14363746-0626-4e18-bbc4-472a36be9e26 button.colab-df-convert');\n",
              "      buttonEl.style.display =\n",
              "        google.colab.kernel.accessAllowed ? 'block' : 'none';\n",
              "\n",
              "      async function convertToInteractive(key) {\n",
              "        const element = document.querySelector('#df-14363746-0626-4e18-bbc4-472a36be9e26');\n",
              "        const dataTable =\n",
              "          await google.colab.kernel.invokeFunction('convertToInteractive',\n",
              "                                                    [key], {});\n",
              "        if (!dataTable) return;\n",
              "\n",
              "        const docLinkHtml = 'Like what you see? Visit the ' +\n",
              "          '<a target=\"_blank\" href=https://colab.research.google.com/notebooks/data_table.ipynb>data table notebook</a>'\n",
              "          + ' to learn more about interactive tables.';\n",
              "        element.innerHTML = '';\n",
              "        dataTable['output_type'] = 'display_data';\n",
              "        await google.colab.output.renderOutput(dataTable, element);\n",
              "        const docLink = document.createElement('div');\n",
              "        docLink.innerHTML = docLinkHtml;\n",
              "        element.appendChild(docLink);\n",
              "      }\n",
              "    </script>\n",
              "  </div>\n",
              "\n",
              "\n",
              "<div id=\"df-60aa4777-21c0-4681-ab0e-45d4a30f6a1e\">\n",
              "  <button class=\"colab-df-quickchart\" onclick=\"quickchart('df-60aa4777-21c0-4681-ab0e-45d4a30f6a1e')\"\n",
              "            title=\"Suggest charts\"\n",
              "            style=\"display:none;\">\n",
              "\n",
              "<svg xmlns=\"http://www.w3.org/2000/svg\" height=\"24px\"viewBox=\"0 0 24 24\"\n",
              "     width=\"24px\">\n",
              "    <g>\n",
              "        <path d=\"M19 3H5c-1.1 0-2 .9-2 2v14c0 1.1.9 2 2 2h14c1.1 0 2-.9 2-2V5c0-1.1-.9-2-2-2zM9 17H7v-7h2v7zm4 0h-2V7h2v10zm4 0h-2v-4h2v4z\"/>\n",
              "    </g>\n",
              "</svg>\n",
              "  </button>\n",
              "\n",
              "<style>\n",
              "  .colab-df-quickchart {\n",
              "      --bg-color: #E8F0FE;\n",
              "      --fill-color: #1967D2;\n",
              "      --hover-bg-color: #E2EBFA;\n",
              "      --hover-fill-color: #174EA6;\n",
              "      --disabled-fill-color: #AAA;\n",
              "      --disabled-bg-color: #DDD;\n",
              "  }\n",
              "\n",
              "  [theme=dark] .colab-df-quickchart {\n",
              "      --bg-color: #3B4455;\n",
              "      --fill-color: #D2E3FC;\n",
              "      --hover-bg-color: #434B5C;\n",
              "      --hover-fill-color: #FFFFFF;\n",
              "      --disabled-bg-color: #3B4455;\n",
              "      --disabled-fill-color: #666;\n",
              "  }\n",
              "\n",
              "  .colab-df-quickchart {\n",
              "    background-color: var(--bg-color);\n",
              "    border: none;\n",
              "    border-radius: 50%;\n",
              "    cursor: pointer;\n",
              "    display: none;\n",
              "    fill: var(--fill-color);\n",
              "    height: 32px;\n",
              "    padding: 0;\n",
              "    width: 32px;\n",
              "  }\n",
              "\n",
              "  .colab-df-quickchart:hover {\n",
              "    background-color: var(--hover-bg-color);\n",
              "    box-shadow: 0 1px 2px rgba(60, 64, 67, 0.3), 0 1px 3px 1px rgba(60, 64, 67, 0.15);\n",
              "    fill: var(--button-hover-fill-color);\n",
              "  }\n",
              "\n",
              "  .colab-df-quickchart-complete:disabled,\n",
              "  .colab-df-quickchart-complete:disabled:hover {\n",
              "    background-color: var(--disabled-bg-color);\n",
              "    fill: var(--disabled-fill-color);\n",
              "    box-shadow: none;\n",
              "  }\n",
              "\n",
              "  .colab-df-spinner {\n",
              "    border: 2px solid var(--fill-color);\n",
              "    border-color: transparent;\n",
              "    border-bottom-color: var(--fill-color);\n",
              "    animation:\n",
              "      spin 1s steps(1) infinite;\n",
              "  }\n",
              "\n",
              "  @keyframes spin {\n",
              "    0% {\n",
              "      border-color: transparent;\n",
              "      border-bottom-color: var(--fill-color);\n",
              "      border-left-color: var(--fill-color);\n",
              "    }\n",
              "    20% {\n",
              "      border-color: transparent;\n",
              "      border-left-color: var(--fill-color);\n",
              "      border-top-color: var(--fill-color);\n",
              "    }\n",
              "    30% {\n",
              "      border-color: transparent;\n",
              "      border-left-color: var(--fill-color);\n",
              "      border-top-color: var(--fill-color);\n",
              "      border-right-color: var(--fill-color);\n",
              "    }\n",
              "    40% {\n",
              "      border-color: transparent;\n",
              "      border-right-color: var(--fill-color);\n",
              "      border-top-color: var(--fill-color);\n",
              "    }\n",
              "    60% {\n",
              "      border-color: transparent;\n",
              "      border-right-color: var(--fill-color);\n",
              "    }\n",
              "    80% {\n",
              "      border-color: transparent;\n",
              "      border-right-color: var(--fill-color);\n",
              "      border-bottom-color: var(--fill-color);\n",
              "    }\n",
              "    90% {\n",
              "      border-color: transparent;\n",
              "      border-bottom-color: var(--fill-color);\n",
              "    }\n",
              "  }\n",
              "</style>\n",
              "\n",
              "  <script>\n",
              "    async function quickchart(key) {\n",
              "      const quickchartButtonEl =\n",
              "        document.querySelector('#' + key + ' button');\n",
              "      quickchartButtonEl.disabled = true;  // To prevent multiple clicks.\n",
              "      quickchartButtonEl.classList.add('colab-df-spinner');\n",
              "      try {\n",
              "        const charts = await google.colab.kernel.invokeFunction(\n",
              "            'suggestCharts', [key], {});\n",
              "      } catch (error) {\n",
              "        console.error('Error during call to suggestCharts:', error);\n",
              "      }\n",
              "      quickchartButtonEl.classList.remove('colab-df-spinner');\n",
              "      quickchartButtonEl.classList.add('colab-df-quickchart-complete');\n",
              "    }\n",
              "    (() => {\n",
              "      let quickchartButtonEl =\n",
              "        document.querySelector('#df-60aa4777-21c0-4681-ab0e-45d4a30f6a1e button');\n",
              "      quickchartButtonEl.style.display =\n",
              "        google.colab.kernel.accessAllowed ? 'block' : 'none';\n",
              "    })();\n",
              "  </script>\n",
              "</div>\n",
              "\n",
              "    </div>\n",
              "  </div>\n"
            ],
            "application/vnd.google.colaboratory.intrinsic+json": {
              "type": "dataframe",
              "variable_name": "tesla_data_set_required",
              "summary": "{\n  \"name\": \"tesla_data_set_required\",\n  \"rows\": 3507,\n  \"fields\": [\n    {\n      \"column\": \"Date\",\n      \"properties\": {\n        \"dtype\": \"date\",\n        \"min\": \"2010-06-29 00:00:00-04:00\",\n        \"max\": \"2024-06-04 00:00:00-04:00\",\n        \"num_unique_values\": 3507,\n        \"samples\": [\n          \"2023-01-06 00:00:00-05:00\",\n          \"2011-09-27 00:00:00-04:00\",\n          \"2019-02-26 00:00:00-05:00\"\n        ],\n        \"semantic_type\": \"\",\n        \"description\": \"\"\n      }\n    },\n    {\n      \"column\": \"High\",\n      \"properties\": {\n        \"dtype\": \"number\",\n        \"std\": 104.2464338514462,\n        \"min\": 1.108667016029358,\n        \"max\": 414.4966735839844,\n        \"num_unique_values\": 3195,\n        \"samples\": [\n          3.9773330688476562,\n          2.1026670932769775,\n          19.110000610351562\n        ],\n        \"semantic_type\": \"\",\n        \"description\": \"\"\n      }\n    }\n  ]\n}"
            }
          },
          "metadata": {},
          "execution_count": 3
        }
      ],
      "source": [
        "#Create The required dataset\n",
        "\n",
        "tesla_data_set_required = tesla_data.filter(['Date', 'High'])\n",
        "tesla_data_set_required.head()"
      ]
    },
    {
      "cell_type": "code",
      "execution_count": 4,
      "metadata": {
        "colab": {
          "base_uri": "https://localhost:8080/",
          "height": 226
        },
        "id": "XLveNNIAcV2p",
        "outputId": "92ca19be-d7cc-44cb-89c7-642267bd5a8b"
      },
      "outputs": [
        {
          "output_type": "execute_result",
          "data": {
            "text/plain": [
              "                          Date        High\n",
              "2899 2022-01-03 00:00:00-05:00  400.356659\n",
              "2900 2022-01-04 00:00:00-05:00  402.666656\n",
              "2901 2022-01-05 00:00:00-05:00  390.113342\n",
              "2902 2022-01-06 00:00:00-05:00  362.666656\n",
              "2903 2022-01-07 00:00:00-05:00  360.309998"
            ],
            "text/html": [
              "\n",
              "  <div id=\"df-a6b41a5f-fbf9-4532-8a65-d06f5f34cbc7\" class=\"colab-df-container\">\n",
              "    <div>\n",
              "<style scoped>\n",
              "    .dataframe tbody tr th:only-of-type {\n",
              "        vertical-align: middle;\n",
              "    }\n",
              "\n",
              "    .dataframe tbody tr th {\n",
              "        vertical-align: top;\n",
              "    }\n",
              "\n",
              "    .dataframe thead th {\n",
              "        text-align: right;\n",
              "    }\n",
              "</style>\n",
              "<table border=\"1\" class=\"dataframe\">\n",
              "  <thead>\n",
              "    <tr style=\"text-align: right;\">\n",
              "      <th></th>\n",
              "      <th>Date</th>\n",
              "      <th>High</th>\n",
              "    </tr>\n",
              "  </thead>\n",
              "  <tbody>\n",
              "    <tr>\n",
              "      <th>2899</th>\n",
              "      <td>2022-01-03 00:00:00-05:00</td>\n",
              "      <td>400.356659</td>\n",
              "    </tr>\n",
              "    <tr>\n",
              "      <th>2900</th>\n",
              "      <td>2022-01-04 00:00:00-05:00</td>\n",
              "      <td>402.666656</td>\n",
              "    </tr>\n",
              "    <tr>\n",
              "      <th>2901</th>\n",
              "      <td>2022-01-05 00:00:00-05:00</td>\n",
              "      <td>390.113342</td>\n",
              "    </tr>\n",
              "    <tr>\n",
              "      <th>2902</th>\n",
              "      <td>2022-01-06 00:00:00-05:00</td>\n",
              "      <td>362.666656</td>\n",
              "    </tr>\n",
              "    <tr>\n",
              "      <th>2903</th>\n",
              "      <td>2022-01-07 00:00:00-05:00</td>\n",
              "      <td>360.309998</td>\n",
              "    </tr>\n",
              "  </tbody>\n",
              "</table>\n",
              "</div>\n",
              "    <div class=\"colab-df-buttons\">\n",
              "\n",
              "  <div class=\"colab-df-container\">\n",
              "    <button class=\"colab-df-convert\" onclick=\"convertToInteractive('df-a6b41a5f-fbf9-4532-8a65-d06f5f34cbc7')\"\n",
              "            title=\"Convert this dataframe to an interactive table.\"\n",
              "            style=\"display:none;\">\n",
              "\n",
              "  <svg xmlns=\"http://www.w3.org/2000/svg\" height=\"24px\" viewBox=\"0 -960 960 960\">\n",
              "    <path d=\"M120-120v-720h720v720H120Zm60-500h600v-160H180v160Zm220 220h160v-160H400v160Zm0 220h160v-160H400v160ZM180-400h160v-160H180v160Zm440 0h160v-160H620v160ZM180-180h160v-160H180v160Zm440 0h160v-160H620v160Z\"/>\n",
              "  </svg>\n",
              "    </button>\n",
              "\n",
              "  <style>\n",
              "    .colab-df-container {\n",
              "      display:flex;\n",
              "      gap: 12px;\n",
              "    }\n",
              "\n",
              "    .colab-df-convert {\n",
              "      background-color: #E8F0FE;\n",
              "      border: none;\n",
              "      border-radius: 50%;\n",
              "      cursor: pointer;\n",
              "      display: none;\n",
              "      fill: #1967D2;\n",
              "      height: 32px;\n",
              "      padding: 0 0 0 0;\n",
              "      width: 32px;\n",
              "    }\n",
              "\n",
              "    .colab-df-convert:hover {\n",
              "      background-color: #E2EBFA;\n",
              "      box-shadow: 0px 1px 2px rgba(60, 64, 67, 0.3), 0px 1px 3px 1px rgba(60, 64, 67, 0.15);\n",
              "      fill: #174EA6;\n",
              "    }\n",
              "\n",
              "    .colab-df-buttons div {\n",
              "      margin-bottom: 4px;\n",
              "    }\n",
              "\n",
              "    [theme=dark] .colab-df-convert {\n",
              "      background-color: #3B4455;\n",
              "      fill: #D2E3FC;\n",
              "    }\n",
              "\n",
              "    [theme=dark] .colab-df-convert:hover {\n",
              "      background-color: #434B5C;\n",
              "      box-shadow: 0px 1px 3px 1px rgba(0, 0, 0, 0.15);\n",
              "      filter: drop-shadow(0px 1px 2px rgba(0, 0, 0, 0.3));\n",
              "      fill: #FFFFFF;\n",
              "    }\n",
              "  </style>\n",
              "\n",
              "    <script>\n",
              "      const buttonEl =\n",
              "        document.querySelector('#df-a6b41a5f-fbf9-4532-8a65-d06f5f34cbc7 button.colab-df-convert');\n",
              "      buttonEl.style.display =\n",
              "        google.colab.kernel.accessAllowed ? 'block' : 'none';\n",
              "\n",
              "      async function convertToInteractive(key) {\n",
              "        const element = document.querySelector('#df-a6b41a5f-fbf9-4532-8a65-d06f5f34cbc7');\n",
              "        const dataTable =\n",
              "          await google.colab.kernel.invokeFunction('convertToInteractive',\n",
              "                                                    [key], {});\n",
              "        if (!dataTable) return;\n",
              "\n",
              "        const docLinkHtml = 'Like what you see? Visit the ' +\n",
              "          '<a target=\"_blank\" href=https://colab.research.google.com/notebooks/data_table.ipynb>data table notebook</a>'\n",
              "          + ' to learn more about interactive tables.';\n",
              "        element.innerHTML = '';\n",
              "        dataTable['output_type'] = 'display_data';\n",
              "        await google.colab.output.renderOutput(dataTable, element);\n",
              "        const docLink = document.createElement('div');\n",
              "        docLink.innerHTML = docLinkHtml;\n",
              "        element.appendChild(docLink);\n",
              "      }\n",
              "    </script>\n",
              "  </div>\n",
              "\n",
              "\n",
              "<div id=\"df-8629d881-7f83-44d1-9618-6a26e113c9fe\">\n",
              "  <button class=\"colab-df-quickchart\" onclick=\"quickchart('df-8629d881-7f83-44d1-9618-6a26e113c9fe')\"\n",
              "            title=\"Suggest charts\"\n",
              "            style=\"display:none;\">\n",
              "\n",
              "<svg xmlns=\"http://www.w3.org/2000/svg\" height=\"24px\"viewBox=\"0 0 24 24\"\n",
              "     width=\"24px\">\n",
              "    <g>\n",
              "        <path d=\"M19 3H5c-1.1 0-2 .9-2 2v14c0 1.1.9 2 2 2h14c1.1 0 2-.9 2-2V5c0-1.1-.9-2-2-2zM9 17H7v-7h2v7zm4 0h-2V7h2v10zm4 0h-2v-4h2v4z\"/>\n",
              "    </g>\n",
              "</svg>\n",
              "  </button>\n",
              "\n",
              "<style>\n",
              "  .colab-df-quickchart {\n",
              "      --bg-color: #E8F0FE;\n",
              "      --fill-color: #1967D2;\n",
              "      --hover-bg-color: #E2EBFA;\n",
              "      --hover-fill-color: #174EA6;\n",
              "      --disabled-fill-color: #AAA;\n",
              "      --disabled-bg-color: #DDD;\n",
              "  }\n",
              "\n",
              "  [theme=dark] .colab-df-quickchart {\n",
              "      --bg-color: #3B4455;\n",
              "      --fill-color: #D2E3FC;\n",
              "      --hover-bg-color: #434B5C;\n",
              "      --hover-fill-color: #FFFFFF;\n",
              "      --disabled-bg-color: #3B4455;\n",
              "      --disabled-fill-color: #666;\n",
              "  }\n",
              "\n",
              "  .colab-df-quickchart {\n",
              "    background-color: var(--bg-color);\n",
              "    border: none;\n",
              "    border-radius: 50%;\n",
              "    cursor: pointer;\n",
              "    display: none;\n",
              "    fill: var(--fill-color);\n",
              "    height: 32px;\n",
              "    padding: 0;\n",
              "    width: 32px;\n",
              "  }\n",
              "\n",
              "  .colab-df-quickchart:hover {\n",
              "    background-color: var(--hover-bg-color);\n",
              "    box-shadow: 0 1px 2px rgba(60, 64, 67, 0.3), 0 1px 3px 1px rgba(60, 64, 67, 0.15);\n",
              "    fill: var(--button-hover-fill-color);\n",
              "  }\n",
              "\n",
              "  .colab-df-quickchart-complete:disabled,\n",
              "  .colab-df-quickchart-complete:disabled:hover {\n",
              "    background-color: var(--disabled-bg-color);\n",
              "    fill: var(--disabled-fill-color);\n",
              "    box-shadow: none;\n",
              "  }\n",
              "\n",
              "  .colab-df-spinner {\n",
              "    border: 2px solid var(--fill-color);\n",
              "    border-color: transparent;\n",
              "    border-bottom-color: var(--fill-color);\n",
              "    animation:\n",
              "      spin 1s steps(1) infinite;\n",
              "  }\n",
              "\n",
              "  @keyframes spin {\n",
              "    0% {\n",
              "      border-color: transparent;\n",
              "      border-bottom-color: var(--fill-color);\n",
              "      border-left-color: var(--fill-color);\n",
              "    }\n",
              "    20% {\n",
              "      border-color: transparent;\n",
              "      border-left-color: var(--fill-color);\n",
              "      border-top-color: var(--fill-color);\n",
              "    }\n",
              "    30% {\n",
              "      border-color: transparent;\n",
              "      border-left-color: var(--fill-color);\n",
              "      border-top-color: var(--fill-color);\n",
              "      border-right-color: var(--fill-color);\n",
              "    }\n",
              "    40% {\n",
              "      border-color: transparent;\n",
              "      border-right-color: var(--fill-color);\n",
              "      border-top-color: var(--fill-color);\n",
              "    }\n",
              "    60% {\n",
              "      border-color: transparent;\n",
              "      border-right-color: var(--fill-color);\n",
              "    }\n",
              "    80% {\n",
              "      border-color: transparent;\n",
              "      border-right-color: var(--fill-color);\n",
              "      border-bottom-color: var(--fill-color);\n",
              "    }\n",
              "    90% {\n",
              "      border-color: transparent;\n",
              "      border-bottom-color: var(--fill-color);\n",
              "    }\n",
              "  }\n",
              "</style>\n",
              "\n",
              "  <script>\n",
              "    async function quickchart(key) {\n",
              "      const quickchartButtonEl =\n",
              "        document.querySelector('#' + key + ' button');\n",
              "      quickchartButtonEl.disabled = true;  // To prevent multiple clicks.\n",
              "      quickchartButtonEl.classList.add('colab-df-spinner');\n",
              "      try {\n",
              "        const charts = await google.colab.kernel.invokeFunction(\n",
              "            'suggestCharts', [key], {});\n",
              "      } catch (error) {\n",
              "        console.error('Error during call to suggestCharts:', error);\n",
              "      }\n",
              "      quickchartButtonEl.classList.remove('colab-df-spinner');\n",
              "      quickchartButtonEl.classList.add('colab-df-quickchart-complete');\n",
              "    }\n",
              "    (() => {\n",
              "      let quickchartButtonEl =\n",
              "        document.querySelector('#df-8629d881-7f83-44d1-9618-6a26e113c9fe button');\n",
              "      quickchartButtonEl.style.display =\n",
              "        google.colab.kernel.accessAllowed ? 'block' : 'none';\n",
              "    })();\n",
              "  </script>\n",
              "</div>\n",
              "\n",
              "    </div>\n",
              "  </div>\n"
            ],
            "application/vnd.google.colaboratory.intrinsic+json": {
              "type": "dataframe",
              "variable_name": "tesla_test",
              "summary": "{\n  \"name\": \"tesla_test\",\n  \"rows\": 608,\n  \"fields\": [\n    {\n      \"column\": \"Date\",\n      \"properties\": {\n        \"dtype\": \"date\",\n        \"min\": \"2022-01-03 00:00:00-05:00\",\n        \"max\": \"2024-06-04 00:00:00-04:00\",\n        \"num_unique_values\": 608,\n        \"samples\": [\n          \"2022-06-09 00:00:00-04:00\",\n          \"2022-01-18 00:00:00-05:00\",\n          \"2022-09-27 00:00:00-04:00\"\n        ],\n        \"semantic_type\": \"\",\n        \"description\": \"\"\n      }\n    },\n    {\n      \"column\": \"High\",\n      \"properties\": {\n        \"dtype\": \"number\",\n        \"std\": 56.75060060067483,\n        \"min\": 111.75,\n        \"max\": 402.6666564941406,\n        \"num_unique_values\": 596,\n        \"samples\": [\n          257.5,\n          161.6199951171875,\n          246.6999969482422\n        ],\n        \"semantic_type\": \"\",\n        \"description\": \"\"\n      }\n    }\n  ]\n}"
            }
          },
          "metadata": {},
          "execution_count": 4
        }
      ],
      "source": [
        "# Splitting the dataset\n",
        "\n",
        "tesla_train = tesla_data_set_required[tesla_data_set_required['Date']<'2022-01-01']\n",
        "tesla_test = tesla_data_set_required[tesla_data_set_required['Date']>'2022-01-01']\n",
        "tesla_test.head()"
      ]
    },
    {
      "cell_type": "code",
      "execution_count": 5,
      "metadata": {
        "colab": {
          "base_uri": "https://localhost:8080/"
        },
        "id": "SyhAJ49_dHQm",
        "outputId": "5b07a252-dcdb-442b-ff46-6a5973a5ea1a"
      },
      "outputs": [
        {
          "output_type": "stream",
          "name": "stdout",
          "text": [
            "<class 'pandas.core.frame.DataFrame'>\n",
            "DatetimeIndex: 2899 entries, 2010-06-29 00:00:00-04:00 to 2021-12-31 00:00:00-05:00\n",
            "Data columns (total 1 columns):\n",
            " #   Column  Non-Null Count  Dtype  \n",
            "---  ------  --------------  -----  \n",
            " 0   High    2899 non-null   float64\n",
            "dtypes: float64(1)\n",
            "memory usage: 45.3 KB\n"
          ]
        }
      ],
      "source": [
        "# Setting up the index\n",
        "tesla_train.set_index('Date',inplace=True)\n",
        "tesla_test.set_index('Date',inplace=True)\n",
        "tesla_train.info()"
      ]
    },
    {
      "cell_type": "code",
      "execution_count": 6,
      "metadata": {
        "colab": {
          "base_uri": "https://localhost:8080/"
        },
        "id": "nSXFNND5f2f_",
        "outputId": "853698d3-5e1d-4fac-9c9d-d267385eccbc"
      },
      "outputs": [
        {
          "output_type": "execute_result",
          "data": {
            "text/plain": [
              "array([[0.00134982],\n",
              "       [0.0022239 ],\n",
              "       [0.00149819],\n",
              "       ...,\n",
              "       [0.88752293],\n",
              "       [0.88070928],\n",
              "       [0.86978331]])"
            ]
          },
          "metadata": {},
          "execution_count": 6
        }
      ],
      "source": [
        "sc = MinMaxScaler(feature_range=(0,1))\n",
        "training_data_scaled = sc.fit_transform(tesla_train)\n",
        "training_data_scaled"
      ]
    },
    {
      "cell_type": "code",
      "execution_count": 7,
      "metadata": {
        "id": "120SxUGHhpQq"
      },
      "outputs": [],
      "source": [
        "# Setting up the input for the model\n",
        "\n",
        "x_train_list=[]\n",
        "y_train_list=[]\n",
        "\n",
        "for i in range(60,len(training_data_scaled)):\n",
        "    x_train_list.append(training_data_scaled[i-60:i,0])\n",
        "    y_train_list.append(training_data_scaled[i,0])\n"
      ]
    },
    {
      "cell_type": "code",
      "execution_count": 8,
      "metadata": {
        "colab": {
          "base_uri": "https://localhost:8080/"
        },
        "id": "TDy3yoZ7jziI",
        "outputId": "b20924e7-cc49-47f1-c769-35686a44f09e"
      },
      "outputs": [
        {
          "output_type": "execute_result",
          "data": {
            "text/plain": [
              "2839"
            ]
          },
          "metadata": {},
          "execution_count": 8
        }
      ],
      "source": [
        "temp = np.array(x_train_list)\n",
        "temp.shape[0]"
      ]
    },
    {
      "cell_type": "code",
      "execution_count": 9,
      "metadata": {
        "id": "o8e1BbKFilfr"
      },
      "outputs": [],
      "source": [
        "# Data reshape is required because karas takes 3D input\n",
        "# Karas takes a sequence of 3D point clouds as input. Each point cloud in the sequence represents a different time step.\n",
        "# The LSTM processes the sequence of point clouds one at a time. At each time step, the LSTM learns the relationships between the points in the current point cloud and the points in the previous point clouds.\n",
        "# The LSTM uses this information to generate a new 3D point cloud. This point cloud represents the predicted state of the object at the current time step.\n",
        "# The process is repeated until Karas has generated the desired number of 3D point clouds.\n",
        "\n",
        "x_train_list, y_train_list = np.array(x_train_list),np.array(y_train_list)\n",
        "x_train_list = np.reshape(x_train_list,(x_train_list.shape[0],x_train_list.shape[1],1))\n"
      ]
    },
    {
      "cell_type": "code",
      "execution_count": 10,
      "metadata": {
        "id": "zsomOMsVkgjz"
      },
      "outputs": [],
      "source": [
        "from keras.models import Sequential\n",
        "from keras.layers import Dense\n",
        "from keras.layers import LSTM\n",
        "from keras.layers import Dropout"
      ]
    },
    {
      "cell_type": "code",
      "execution_count": 11,
      "metadata": {
        "id": "iStIPT3vk2EZ"
      },
      "outputs": [],
      "source": [
        "regressor = Sequential()"
      ]
    },
    {
      "cell_type": "code",
      "execution_count": 12,
      "metadata": {
        "id": "UJADUFLllAvH"
      },
      "outputs": [],
      "source": [
        "regressor.add(LSTM(units=50,return_sequences=True,input_shape=(x_train_list.shape[1],1)))\n",
        "regressor.add(Dropout(0.2))\n",
        "\n",
        "regressor.add(LSTM(units=50,return_sequences=True))\n",
        "regressor.add(Dropout(0.2))\n",
        "\n",
        "regressor.add(LSTM(units=50,return_sequences=True))\n",
        "regressor.add(Dropout(0.2))\n",
        "\n",
        "regressor.add(LSTM(units=50,return_sequences=False))\n",
        "regressor.add(Dropout(0.2))\n",
        "\n",
        "regressor.add(Dense(units=1))\n"
      ]
    },
    {
      "cell_type": "code",
      "execution_count": 13,
      "metadata": {
        "id": "m4RvaP-Fla3Y"
      },
      "outputs": [],
      "source": [
        "regressor.compile(optimizer='adam',loss='mean_squared_error')"
      ]
    },
    {
      "cell_type": "code",
      "execution_count": 14,
      "metadata": {
        "colab": {
          "base_uri": "https://localhost:8080/"
        },
        "id": "eiJAtEvgn8GO",
        "outputId": "2a1dbaaa-6120-47c7-9391-02df633a02ba"
      },
      "outputs": [
        {
          "output_type": "stream",
          "name": "stdout",
          "text": [
            "Epoch 1/100\n",
            "89/89 [==============================] - 23s 169ms/step - loss: 0.0037\n",
            "Epoch 2/100\n",
            "89/89 [==============================] - 13s 142ms/step - loss: 0.0016\n",
            "Epoch 3/100\n",
            "89/89 [==============================] - 12s 139ms/step - loss: 0.0012\n",
            "Epoch 4/100\n",
            "89/89 [==============================] - 22s 252ms/step - loss: 0.0012\n",
            "Epoch 5/100\n",
            "89/89 [==============================] - 10s 117ms/step - loss: 0.0014\n",
            "Epoch 6/100\n",
            "89/89 [==============================] - 12s 129ms/step - loss: 0.0011\n",
            "Epoch 7/100\n",
            "89/89 [==============================] - 12s 130ms/step - loss: 8.0409e-04\n",
            "Epoch 8/100\n",
            "89/89 [==============================] - 12s 130ms/step - loss: 8.9368e-04\n",
            "Epoch 9/100\n",
            "89/89 [==============================] - 12s 137ms/step - loss: 9.7766e-04\n",
            "Epoch 10/100\n",
            "89/89 [==============================] - 12s 130ms/step - loss: 9.1220e-04\n",
            "Epoch 11/100\n",
            "89/89 [==============================] - 11s 118ms/step - loss: 7.5107e-04\n",
            "Epoch 12/100\n",
            "89/89 [==============================] - 13s 142ms/step - loss: 9.6933e-04\n",
            "Epoch 13/100\n",
            "89/89 [==============================] - 12s 136ms/step - loss: 7.0849e-04\n",
            "Epoch 14/100\n",
            "89/89 [==============================] - 12s 133ms/step - loss: 7.3318e-04\n",
            "Epoch 15/100\n",
            "89/89 [==============================] - 12s 135ms/step - loss: 9.1584e-04\n",
            "Epoch 16/100\n",
            "89/89 [==============================] - 14s 153ms/step - loss: 7.7866e-04\n",
            "Epoch 17/100\n",
            "89/89 [==============================] - 11s 126ms/step - loss: 7.1849e-04\n",
            "Epoch 18/100\n",
            "89/89 [==============================] - 12s 136ms/step - loss: 7.8311e-04\n",
            "Epoch 19/100\n",
            "89/89 [==============================] - 12s 134ms/step - loss: 8.6832e-04\n",
            "Epoch 20/100\n",
            "89/89 [==============================] - 12s 137ms/step - loss: 8.5346e-04\n",
            "Epoch 21/100\n",
            "89/89 [==============================] - 12s 134ms/step - loss: 6.8272e-04\n",
            "Epoch 22/100\n",
            "89/89 [==============================] - 12s 134ms/step - loss: 8.4294e-04\n",
            "Epoch 23/100\n",
            "89/89 [==============================] - 12s 133ms/step - loss: 7.3058e-04\n",
            "Epoch 24/100\n",
            "89/89 [==============================] - 11s 125ms/step - loss: 6.2396e-04\n",
            "Epoch 25/100\n",
            "89/89 [==============================] - 12s 133ms/step - loss: 7.3726e-04\n",
            "Epoch 26/100\n",
            "89/89 [==============================] - 12s 135ms/step - loss: 6.2687e-04\n",
            "Epoch 27/100\n",
            "89/89 [==============================] - 12s 140ms/step - loss: 7.1930e-04\n",
            "Epoch 28/100\n",
            "89/89 [==============================] - 12s 134ms/step - loss: 6.9898e-04\n",
            "Epoch 29/100\n",
            "89/89 [==============================] - 12s 133ms/step - loss: 6.7802e-04\n",
            "Epoch 30/100\n",
            "89/89 [==============================] - 11s 126ms/step - loss: 6.9743e-04\n",
            "Epoch 31/100\n",
            "89/89 [==============================] - 11s 125ms/step - loss: 5.8446e-04\n",
            "Epoch 32/100\n",
            "89/89 [==============================] - 12s 132ms/step - loss: 6.0969e-04\n",
            "Epoch 33/100\n",
            "89/89 [==============================] - 12s 131ms/step - loss: 8.5213e-04\n",
            "Epoch 34/100\n",
            "89/89 [==============================] - 12s 134ms/step - loss: 5.3037e-04\n",
            "Epoch 35/100\n",
            "89/89 [==============================] - 13s 149ms/step - loss: 5.8937e-04\n",
            "Epoch 36/100\n",
            "89/89 [==============================] - 11s 124ms/step - loss: 5.0274e-04\n",
            "Epoch 37/100\n",
            "89/89 [==============================] - 11s 125ms/step - loss: 6.3153e-04\n",
            "Epoch 38/100\n",
            "89/89 [==============================] - 12s 133ms/step - loss: 5.8342e-04\n",
            "Epoch 39/100\n",
            "89/89 [==============================] - 12s 133ms/step - loss: 5.4950e-04\n",
            "Epoch 40/100\n",
            "89/89 [==============================] - 12s 133ms/step - loss: 7.1395e-04\n",
            "Epoch 41/100\n",
            "89/89 [==============================] - 12s 135ms/step - loss: 5.9053e-04\n",
            "Epoch 42/100\n",
            "89/89 [==============================] - 11s 122ms/step - loss: 6.6622e-04\n",
            "Epoch 43/100\n",
            "89/89 [==============================] - 11s 128ms/step - loss: 5.1124e-04\n",
            "Epoch 44/100\n",
            "89/89 [==============================] - 12s 131ms/step - loss: 6.7953e-04\n",
            "Epoch 45/100\n",
            "89/89 [==============================] - 12s 132ms/step - loss: 5.8471e-04\n",
            "Epoch 46/100\n",
            "89/89 [==============================] - 12s 133ms/step - loss: 5.0530e-04\n",
            "Epoch 47/100\n",
            "89/89 [==============================] - 12s 133ms/step - loss: 4.8433e-04\n",
            "Epoch 48/100\n",
            "89/89 [==============================] - 11s 119ms/step - loss: 5.2884e-04\n",
            "Epoch 49/100\n",
            "89/89 [==============================] - 12s 130ms/step - loss: 5.2191e-04\n",
            "Epoch 50/100\n",
            "89/89 [==============================] - 12s 131ms/step - loss: 6.2408e-04\n",
            "Epoch 51/100\n",
            "89/89 [==============================] - 12s 133ms/step - loss: 5.0650e-04\n",
            "Epoch 52/100\n",
            "89/89 [==============================] - 12s 132ms/step - loss: 5.9239e-04\n",
            "Epoch 53/100\n",
            "89/89 [==============================] - 12s 135ms/step - loss: 5.2102e-04\n",
            "Epoch 54/100\n",
            "89/89 [==============================] - 12s 132ms/step - loss: 5.0619e-04\n",
            "Epoch 55/100\n",
            "89/89 [==============================] - 12s 130ms/step - loss: 5.1820e-04\n",
            "Epoch 56/100\n",
            "89/89 [==============================] - 12s 133ms/step - loss: 4.6961e-04\n",
            "Epoch 57/100\n",
            "89/89 [==============================] - 12s 133ms/step - loss: 5.2550e-04\n",
            "Epoch 58/100\n",
            "89/89 [==============================] - 12s 133ms/step - loss: 4.8399e-04\n",
            "Epoch 59/100\n",
            "89/89 [==============================] - 12s 131ms/step - loss: 5.7625e-04\n",
            "Epoch 60/100\n",
            "89/89 [==============================] - 11s 119ms/step - loss: 4.3602e-04\n",
            "Epoch 61/100\n",
            "89/89 [==============================] - 12s 129ms/step - loss: 4.6420e-04\n",
            "Epoch 62/100\n",
            "89/89 [==============================] - 12s 132ms/step - loss: 5.1996e-04\n",
            "Epoch 63/100\n",
            "89/89 [==============================] - 12s 131ms/step - loss: 5.3867e-04\n",
            "Epoch 64/100\n",
            "89/89 [==============================] - 12s 132ms/step - loss: 4.9294e-04\n",
            "Epoch 65/100\n",
            "89/89 [==============================] - 11s 128ms/step - loss: 5.3896e-04\n",
            "Epoch 66/100\n",
            "89/89 [==============================] - 11s 119ms/step - loss: 6.3627e-04\n",
            "Epoch 67/100\n",
            "89/89 [==============================] - 12s 132ms/step - loss: 4.4058e-04\n",
            "Epoch 68/100\n",
            "89/89 [==============================] - 12s 132ms/step - loss: 4.1714e-04\n",
            "Epoch 69/100\n",
            "89/89 [==============================] - 12s 132ms/step - loss: 5.0286e-04\n",
            "Epoch 70/100\n",
            "89/89 [==============================] - 12s 131ms/step - loss: 5.5493e-04\n",
            "Epoch 71/100\n",
            "89/89 [==============================] - 11s 122ms/step - loss: 4.8643e-04\n",
            "Epoch 72/100\n",
            "89/89 [==============================] - 13s 141ms/step - loss: 4.3003e-04\n",
            "Epoch 73/100\n",
            "89/89 [==============================] - 12s 130ms/step - loss: 4.6237e-04\n",
            "Epoch 74/100\n",
            "89/89 [==============================] - 12s 132ms/step - loss: 4.5457e-04\n",
            "Epoch 75/100\n",
            "89/89 [==============================] - 12s 131ms/step - loss: 5.7891e-04\n",
            "Epoch 76/100\n",
            "89/89 [==============================] - 12s 130ms/step - loss: 5.5917e-04\n",
            "Epoch 77/100\n",
            "89/89 [==============================] - 11s 125ms/step - loss: 4.1345e-04\n",
            "Epoch 78/100\n",
            "89/89 [==============================] - 11s 120ms/step - loss: 4.4844e-04\n",
            "Epoch 79/100\n",
            "89/89 [==============================] - 12s 133ms/step - loss: 4.6204e-04\n",
            "Epoch 80/100\n",
            "89/89 [==============================] - 12s 133ms/step - loss: 4.3163e-04\n",
            "Epoch 81/100\n",
            "89/89 [==============================] - 13s 150ms/step - loss: 5.3660e-04\n",
            "Epoch 82/100\n",
            "89/89 [==============================] - 12s 139ms/step - loss: 4.6712e-04\n",
            "Epoch 83/100\n",
            "89/89 [==============================] - 12s 138ms/step - loss: 4.3587e-04\n",
            "Epoch 84/100\n",
            "89/89 [==============================] - 12s 130ms/step - loss: 4.4195e-04\n",
            "Epoch 85/100\n",
            "89/89 [==============================] - 12s 131ms/step - loss: 6.2387e-04\n",
            "Epoch 86/100\n",
            "89/89 [==============================] - 12s 139ms/step - loss: 4.1584e-04\n",
            "Epoch 87/100\n",
            "89/89 [==============================] - 12s 140ms/step - loss: 4.5248e-04\n",
            "Epoch 88/100\n",
            "89/89 [==============================] - 12s 139ms/step - loss: 4.1679e-04\n",
            "Epoch 89/100\n",
            "89/89 [==============================] - 14s 155ms/step - loss: 4.7831e-04\n",
            "Epoch 90/100\n",
            "89/89 [==============================] - 12s 139ms/step - loss: 5.3355e-04\n",
            "Epoch 91/100\n",
            "89/89 [==============================] - 14s 153ms/step - loss: 4.0953e-04\n",
            "Epoch 92/100\n",
            "89/89 [==============================] - 12s 137ms/step - loss: 4.1296e-04\n",
            "Epoch 93/100\n",
            "89/89 [==============================] - 12s 135ms/step - loss: 3.9944e-04\n",
            "Epoch 94/100\n",
            "89/89 [==============================] - 11s 122ms/step - loss: 3.9075e-04\n",
            "Epoch 95/100\n",
            "89/89 [==============================] - 12s 134ms/step - loss: 3.8452e-04\n",
            "Epoch 96/100\n",
            "89/89 [==============================] - 12s 138ms/step - loss: 5.2389e-04\n",
            "Epoch 97/100\n",
            "89/89 [==============================] - 12s 136ms/step - loss: 4.2595e-04\n",
            "Epoch 98/100\n",
            "89/89 [==============================] - 12s 137ms/step - loss: 3.7622e-04\n",
            "Epoch 99/100\n",
            "89/89 [==============================] - 12s 136ms/step - loss: 5.2066e-04\n",
            "Epoch 100/100\n",
            "89/89 [==============================] - 12s 139ms/step - loss: 3.9498e-04\n"
          ]
        },
        {
          "output_type": "execute_result",
          "data": {
            "text/plain": [
              "<keras.src.callbacks.History at 0x7e69540c6dd0>"
            ]
          },
          "metadata": {},
          "execution_count": 14
        }
      ],
      "source": [
        "regressor.fit(x_train_list, y_train_list, epochs=100, batch_size=32)"
      ]
    },
    {
      "cell_type": "code",
      "source": [
        "tesla_train.iloc[-60:,0]"
      ],
      "metadata": {
        "colab": {
          "base_uri": "https://localhost:8080/"
        },
        "id": "6SBBdgPzMka5",
        "outputId": "90c33b4f-37fa-46d0-b259-44c4db90c0d3"
      },
      "execution_count": null,
      "outputs": [
        {
          "output_type": "execute_result",
          "data": {
            "text/plain": [
              "Date\n",
              "2021-10-07 00:00:00-04:00    268.333344\n",
              "2021-10-08 00:00:00-04:00    265.459991\n",
              "2021-10-11 00:00:00-04:00    267.079987\n",
              "2021-10-12 00:00:00-04:00    270.773346\n",
              "2021-10-13 00:00:00-04:00    271.803345\n",
              "2021-10-14 00:00:00-04:00    273.416656\n",
              "2021-10-15 00:00:00-04:00    281.070007\n",
              "2021-10-18 00:00:00-04:00    291.753326\n",
              "2021-10-19 00:00:00-04:00    292.649994\n",
              "2021-10-20 00:00:00-04:00    289.829987\n",
              "2021-10-21 00:00:00-04:00    300.000000\n",
              "2021-10-22 00:00:00-04:00    303.333344\n",
              "2021-10-25 00:00:00-04:00    348.339996\n",
              "2021-10-26 00:00:00-04:00    364.980011\n",
              "2021-10-27 00:00:00-04:00    356.959991\n",
              "2021-10-28 00:00:00-04:00    360.333344\n",
              "2021-10-29 00:00:00-04:00    371.736664\n",
              "2021-11-01 00:00:00-04:00    403.250000\n",
              "2021-11-02 00:00:00-04:00    402.863342\n",
              "2021-11-03 00:00:00-04:00    405.130005\n",
              "2021-11-04 00:00:00-04:00    414.496674\n",
              "2021-11-05 00:00:00-04:00    413.290009\n",
              "2021-11-08 00:00:00-05:00    399.000000\n",
              "2021-11-09 00:00:00-05:00    391.500000\n",
              "2021-11-10 00:00:00-05:00    359.366669\n",
              "2021-11-11 00:00:00-05:00    368.323334\n",
              "2021-11-12 00:00:00-05:00    351.500000\n",
              "2021-11-15 00:00:00-05:00    343.993347\n",
              "2021-11-16 00:00:00-05:00    352.399994\n",
              "2021-11-17 00:00:00-05:00    373.213318\n",
              "2021-11-18 00:00:00-05:00    370.666656\n",
              "2021-11-19 00:00:00-05:00    379.573334\n",
              "2021-11-22 00:00:00-05:00    400.649994\n",
              "2021-11-23 00:00:00-05:00    393.500000\n",
              "2021-11-24 00:00:00-05:00    377.589996\n",
              "2021-11-26 00:00:00-05:00    369.593323\n",
              "2021-11-29 00:00:00-05:00    380.890015\n",
              "2021-11-30 00:00:00-05:00    389.333344\n",
              "2021-12-01 00:00:00-05:00    390.946655\n",
              "2021-12-02 00:00:00-05:00    371.000000\n",
              "2021-12-03 00:00:00-05:00    363.526672\n",
              "2021-12-06 00:00:00-05:00    340.546661\n",
              "2021-12-07 00:00:00-05:00    352.556671\n",
              "2021-12-08 00:00:00-05:00    357.459991\n",
              "2021-12-09 00:00:00-05:00    354.163330\n",
              "2021-12-10 00:00:00-05:00    340.326660\n",
              "2021-12-13 00:00:00-05:00    335.000000\n",
              "2021-12-14 00:00:00-05:00    322.136658\n",
              "2021-12-15 00:00:00-05:00    326.250000\n",
              "2021-12-16 00:00:00-05:00    331.660004\n",
              "2021-12-17 00:00:00-05:00    320.220001\n",
              "2021-12-20 00:00:00-05:00    307.230011\n",
              "2021-12-21 00:00:00-05:00    313.166656\n",
              "2021-12-22 00:00:00-05:00    338.553345\n",
              "2021-12-23 00:00:00-05:00    357.660004\n",
              "2021-12-27 00:00:00-05:00    372.333344\n",
              "2021-12-28 00:00:00-05:00    373.000000\n",
              "2021-12-29 00:00:00-05:00    368.000000\n",
              "2021-12-30 00:00:00-05:00    365.183319\n",
              "2021-12-31 00:00:00-05:00    360.666656\n",
              "Name: High, dtype: float64"
            ]
          },
          "metadata": {},
          "execution_count": 69
        }
      ]
    },
    {
      "cell_type": "code",
      "source": [
        "tesla_test.iloc[:,0]\n"
      ],
      "metadata": {
        "colab": {
          "base_uri": "https://localhost:8080/"
        },
        "id": "dTYxwGpaM7GV",
        "outputId": "3f543537-dafa-421e-cfee-5eaf67710d68"
      },
      "execution_count": null,
      "outputs": [
        {
          "output_type": "execute_result",
          "data": {
            "text/plain": [
              "Date\n",
              "2022-01-03 00:00:00-05:00    400.356659\n",
              "2022-01-04 00:00:00-05:00    402.666656\n",
              "2022-01-05 00:00:00-05:00    390.113342\n",
              "2022-01-06 00:00:00-05:00    362.666656\n",
              "2022-01-07 00:00:00-05:00    360.309998\n",
              "                                ...    \n",
              "2024-05-28 00:00:00-04:00    178.250000\n",
              "2024-05-29 00:00:00-04:00    178.149994\n",
              "2024-05-30 00:00:00-04:00    182.669998\n",
              "2024-05-31 00:00:00-04:00    180.320007\n",
              "2024-06-03 00:00:00-04:00    182.639999\n",
              "Name: High, Length: 607, dtype: float64"
            ]
          },
          "metadata": {},
          "execution_count": 68
        }
      ]
    },
    {
      "cell_type": "code",
      "execution_count": 15,
      "metadata": {
        "colab": {
          "base_uri": "https://localhost:8080/"
        },
        "id": "kfz7TSiFoqJv",
        "outputId": "0ab0af5a-1f9a-4beb-8feb-af7057f254ed",
        "collapsed": true
      },
      "outputs": [
        {
          "output_type": "execute_result",
          "data": {
            "text/plain": [
              "668"
            ]
          },
          "metadata": {},
          "execution_count": 15
        }
      ],
      "source": [
        "# Preparing test inputs\n",
        "t1 = tesla_train.iloc[-60:,0].values\n",
        "t2 = tesla_test.iloc[:,0].values\n",
        "inputs = np.append(t1,t2)\n",
        "inputs.shape[0]"
      ]
    },
    {
      "cell_type": "code",
      "source": [
        "\n",
        "inputs = inputs.reshape(-1,1)\n",
        "inputs = sc.fit_transform(inputs)"
      ],
      "metadata": {
        "id": "8b3rz6HTHUlw"
      },
      "execution_count": 16,
      "outputs": []
    },
    {
      "cell_type": "code",
      "source": [
        "np.isnan(inputs).any()\n",
        "inputs.shape[0]"
      ],
      "metadata": {
        "colab": {
          "base_uri": "https://localhost:8080/"
        },
        "id": "L3FTkWaXHCwT",
        "outputId": "b899bfc4-2a0e-4c2e-dd2c-92b2328dd418"
      },
      "execution_count": null,
      "outputs": [
        {
          "output_type": "execute_result",
          "data": {
            "text/plain": [
              "667"
            ]
          },
          "metadata": {},
          "execution_count": 40
        }
      ]
    },
    {
      "cell_type": "code",
      "source": [
        "x = []\n",
        "y= []\n",
        "\n",
        "for i in range(60,inputs.shape[0]):\n",
        "    x.append(inputs[i-60:i,0])\n",
        "    y.append(inputs[i,0])\n",
        "\n",
        "y[1]"
      ],
      "metadata": {
        "colab": {
          "base_uri": "https://localhost:8080/"
        },
        "id": "2j1TabiEA8UU",
        "outputId": "c82e46cb-96a7-4244-9fbe-3a2a1ebe6945"
      },
      "execution_count": 17,
      "outputs": [
        {
          "output_type": "execute_result",
          "data": {
            "text/plain": [
              "0.9609243697055452"
            ]
          },
          "metadata": {},
          "execution_count": 17
        }
      ]
    },
    {
      "cell_type": "code",
      "source": [
        "x = np.array(x)\n",
        "y = np.array(y)\n",
        "\n",
        "y= y.reshape(-1,1)\n",
        "x = np.reshape(x,(x.shape[0],x.shape[1],1))\n",
        "\n",
        "predicted_values = regressor.predict(x)\n",
        "predicted_values = sc.inverse_transform(predicted_values)\n",
        "y = sc.inverse_transform(y)\n",
        "\n",
        "\n"
      ],
      "metadata": {
        "colab": {
          "base_uri": "https://localhost:8080/"
        },
        "id": "LI_aoFPDIPL_",
        "outputId": "8ffbf914-c8fe-411a-e0df-d0ec5a14b9f6"
      },
      "execution_count": 22,
      "outputs": [
        {
          "output_type": "stream",
          "name": "stdout",
          "text": [
            "19/19 [==============================] - 1s 45ms/step\n"
          ]
        }
      ]
    },
    {
      "cell_type": "code",
      "source": [
        "for i in range(20):\n",
        "  print(y[i],predicted_values[i])"
      ],
      "metadata": {
        "colab": {
          "base_uri": "https://localhost:8080/"
        },
        "id": "j0um2QY1ji8U",
        "outputId": "426c1c5e-3614-446d-c2ad-d34902e52e01"
      },
      "execution_count": 24,
      "outputs": [
        {
          "output_type": "stream",
          "name": "stdout",
          "text": [
            "[400.35665894] [372.08917]\n",
            "[402.66665649] [383.4487]\n",
            "[390.11334229] [390.13126]\n",
            "[362.66665649] [390.52835]\n",
            "[360.30999756] [381.01346]\n",
            "[353.0333252] [373.78342]\n",
            "[358.6166687] [365.07343]\n",
            "[371.61334229] [361.9149]\n",
            "[371.8666687] [365.90826]\n",
            "[350.66665649] [370.65396]\n",
            "[356.92999268] [366.8213]\n",
            "[351.55667114] [366.81656]\n",
            "[347.22000122] [363.95776]\n",
            "[334.8500061] [360.8037]\n",
            "[311.17001343] [354.00217]\n",
            "[317.08666992] [341.0924]\n",
            "[329.23001099] [332.50684]\n",
            "[311.79666138] [331.15613]\n",
            "[285.83334351] [326.8946]\n",
            "[312.66333008] [315.58588]\n"
          ]
        }
      ]
    },
    {
      "cell_type": "code",
      "source": [
        "plt.plot(y, color='red',label='Real Price')\n",
        "plt.plot(predicted_values,color='blue',label='Predicted Price')\n",
        "plt.title('Tesla Stock Price Prediction')\n",
        "plt.xlabel('Time')\n",
        "plt.ylabel('Tesla Stock Price')\n",
        "plt.legend()\n",
        "plt.show()"
      ],
      "metadata": {
        "colab": {
          "base_uri": "https://localhost:8080/",
          "height": 492
        },
        "id": "vK0BVPrdGux6",
        "outputId": "89c0fa7a-7c5d-4311-c543-99377834e7da"
      },
      "execution_count": 23,
      "outputs": [
        {
          "output_type": "display_data",
          "data": {
            "text/plain": [
              "<Figure size 640x480 with 1 Axes>"
            ],
            "image/png": "[encoded data removed]"
          },
          "metadata": {}
        }
      ]
    }
  ],
  "metadata": {
    "colab": {
      "provenance": [],
      "authorship_tag": "ABX9TyMf5adNH/byB9yKh9r2vdSG",
      "include_colab_link": true
    },
    "kernelspec": {
      "display_name": "Python 3",
      "name": "python3"
    },
    "language_info": {
      "name": "python"
    }
  },
  "nbformat": 4,
  "nbformat_minor": 0
}